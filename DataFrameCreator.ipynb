{
 "cells": [
  {
   "cell_type": "markdown",
   "metadata": {},
   "source": [
    "# Rates, Pressure, Temperature DataFrame Creator"
   ]
  },
  {
   "cell_type": "markdown",
   "metadata": {},
   "source": [
    "This is a simple notebook in the end provides a dataframe for the data that you want to analyse.<br>\n",
    "1. It uses the two environmental files to create a dataframe with 3 columns<br>\n",
    "gpstime | Presssure | Temperature<br>\n",
    "<br>\n",
    "2. It uses the muon files to extract a second dataframe with two columns<br>\n",
    "unixtime | muonrates<br>\n",
    "<br>\n",
    "3. In the final step it joins the two dataframes in one based on the timestamp<br>\n",
    "(It transforms the gpdtime to unixtime first)\n",
    "<br>\n",
    "You may want to extract the dataframe in a csv file to use for your analysis"
   ]
  },
  {
   "cell_type": "code",
   "execution_count": 1,
   "metadata": {},
   "outputs": [],
   "source": [
    "from datetime import datetime\n",
    "import numpy as np\n",
    "import pandas as pd\n",
    "from IPython.core.interactiveshell import InteractiveShell\n",
    "InteractiveShell.ast_node_interactivity = \"all\"\n",
    "pd.set_option('display.float_format', '{:.10g}'.format)\n",
    "import os\n",
    "from matplotlib import pyplot as plt"
   ]
  },
  {
   "cell_type": "code",
   "execution_count": 3,
   "metadata": {},
   "outputs": [],
   "source": [
    "def TimestampConvGPStoUNIX(gps_timestamp,leap_secs=18):\n",
    "    #Converts the gpstimestamp to unixtimestamp\n",
    "    unix_timestamp = gps_timestamp + 315964800 - leap_secs\n",
    "    \n",
    "    return unix_timestamp"
   ]
  },
  {
   "cell_type": "markdown",
   "metadata": {},
   "source": [
    "## 1. It uses the two environmental files to create a dataframe with 3 columns"
   ]
  },
  {
   "cell_type": "code",
   "execution_count": 6,
   "metadata": {},
   "outputs": [],
   "source": [
    "#Create the file catalog for the environmental files that will be read\n",
    "#Here i use the names and path for my files, you should change these to yours\n",
    "directory=\"/Users/theoavg/Desktop/VirgoO3_Analysis/dataO3/\"\n",
    "file_catalog=[directory+\"ENV_METEO_PRES_1265673618_1641600.txt\", directory+\"ENV_METEO_TE_1265673618_1641600.txt\"]\n",
    "\n",
    "feature_catalog=[\"gpstime\",\"Pressure\",\"Temperature\"]"
   ]
  },
  {
   "cell_type": "code",
   "execution_count": 7,
   "metadata": {},
   "outputs": [],
   "source": [
    "# read the 1st file from the file_catalog and creates the dataframe named data with two columns\n",
    "# feature_catalog[0] | feature_catalog[1] that is for this specific example\n",
    "# \"gpstime\" | \"Pressure\"\n",
    "i=0\n",
    "data = pd.read_csv(file_catalog[i], \n",
    "                   sep=\"\\s\", header = None, names=[feature_catalog[0],feature_catalog[i+1]], engine='python')\n",
    "\n",
    "# Use a for loop to read the rest of the files in the file_catalog list\n",
    "# In this exapmple we have one extra file (the workframe was developed for many files)\n",
    "\n",
    "for i in range(1,len(file_catalog)):\n",
    "    data_to_append = pd.read_csv(file_catalog[i], \n",
    "                   sep=\"\\s\", header = None, names=[feature_catalog[0],feature_catalog[i+1]], engine='python')\n",
    "    \n",
    "    # Append the last column of the data_to_append dataframe to the initial data dataframe we created above\n",
    "    data=data.join(data_to_append.iloc[:,1])\n",
    "    #data.head()"
   ]
  },
  {
   "cell_type": "code",
   "execution_count": 11,
   "metadata": {},
   "outputs": [
    {
     "data": {
      "text/html": [
       "<div>\n",
       "<style scoped>\n",
       "    .dataframe tbody tr th:only-of-type {\n",
       "        vertical-align: middle;\n",
       "    }\n",
       "\n",
       "    .dataframe tbody tr th {\n",
       "        vertical-align: top;\n",
       "    }\n",
       "\n",
       "    .dataframe thead th {\n",
       "        text-align: right;\n",
       "    }\n",
       "</style>\n",
       "<table border=\"1\" class=\"dataframe\">\n",
       "  <thead>\n",
       "    <tr style=\"text-align: right;\">\n",
       "      <th></th>\n",
       "      <th>gpstime</th>\n",
       "      <th>Pressure</th>\n",
       "      <th>Temperature</th>\n",
       "    </tr>\n",
       "  </thead>\n",
       "  <tbody>\n",
       "    <tr>\n",
       "      <th>0</th>\n",
       "      <td>1265673618</td>\n",
       "      <td>1019.5</td>\n",
       "      <td>12.72000027</td>\n",
       "    </tr>\n",
       "    <tr>\n",
       "      <th>1</th>\n",
       "      <td>1265673619</td>\n",
       "      <td>1019.5</td>\n",
       "      <td>12.72000027</td>\n",
       "    </tr>\n",
       "    <tr>\n",
       "      <th>2</th>\n",
       "      <td>1265673620</td>\n",
       "      <td>1019.5</td>\n",
       "      <td>12.72000027</td>\n",
       "    </tr>\n",
       "    <tr>\n",
       "      <th>3</th>\n",
       "      <td>1265673621</td>\n",
       "      <td>1019.5</td>\n",
       "      <td>12.72000027</td>\n",
       "    </tr>\n",
       "    <tr>\n",
       "      <th>4</th>\n",
       "      <td>1265673622</td>\n",
       "      <td>1019.5</td>\n",
       "      <td>12.72000027</td>\n",
       "    </tr>\n",
       "  </tbody>\n",
       "</table>\n",
       "</div>"
      ],
      "text/plain": [
       "      gpstime  Pressure  Temperature\n",
       "0  1265673618    1019.5  12.72000027\n",
       "1  1265673619    1019.5  12.72000027\n",
       "2  1265673620    1019.5  12.72000027\n",
       "3  1265673621    1019.5  12.72000027\n",
       "4  1265673622    1019.5  12.72000027"
      ]
     },
     "execution_count": 11,
     "metadata": {},
     "output_type": "execute_result"
    },
    {
     "data": {
      "text/html": [
       "<div>\n",
       "<style scoped>\n",
       "    .dataframe tbody tr th:only-of-type {\n",
       "        vertical-align: middle;\n",
       "    }\n",
       "\n",
       "    .dataframe tbody tr th {\n",
       "        vertical-align: top;\n",
       "    }\n",
       "\n",
       "    .dataframe thead th {\n",
       "        text-align: right;\n",
       "    }\n",
       "</style>\n",
       "<table border=\"1\" class=\"dataframe\">\n",
       "  <thead>\n",
       "    <tr style=\"text-align: right;\">\n",
       "      <th></th>\n",
       "      <th>gpstime</th>\n",
       "      <th>Pressure</th>\n",
       "      <th>Temperature</th>\n",
       "    </tr>\n",
       "  </thead>\n",
       "  <tbody>\n",
       "    <tr>\n",
       "      <th>1641595</th>\n",
       "      <td>1267315213</td>\n",
       "      <td>1010.400024</td>\n",
       "      <td>6.21999979</td>\n",
       "    </tr>\n",
       "    <tr>\n",
       "      <th>1641596</th>\n",
       "      <td>1267315214</td>\n",
       "      <td>1010.400024</td>\n",
       "      <td>6.21999979</td>\n",
       "    </tr>\n",
       "    <tr>\n",
       "      <th>1641597</th>\n",
       "      <td>1267315215</td>\n",
       "      <td>1010.400024</td>\n",
       "      <td>6.21999979</td>\n",
       "    </tr>\n",
       "    <tr>\n",
       "      <th>1641598</th>\n",
       "      <td>1267315216</td>\n",
       "      <td>1010.400024</td>\n",
       "      <td>6.21999979</td>\n",
       "    </tr>\n",
       "    <tr>\n",
       "      <th>1641599</th>\n",
       "      <td>1267315217</td>\n",
       "      <td>1010.400024</td>\n",
       "      <td>6.21999979</td>\n",
       "    </tr>\n",
       "  </tbody>\n",
       "</table>\n",
       "</div>"
      ],
      "text/plain": [
       "            gpstime    Pressure  Temperature\n",
       "1641595  1267315213 1010.400024   6.21999979\n",
       "1641596  1267315214 1010.400024   6.21999979\n",
       "1641597  1267315215 1010.400024   6.21999979\n",
       "1641598  1267315216 1010.400024   6.21999979\n",
       "1641599  1267315217 1010.400024   6.21999979"
      ]
     },
     "execution_count": 11,
     "metadata": {},
     "output_type": "execute_result"
    }
   ],
   "source": [
    "# The environmental dataframe created from the two files\n",
    "data.head()\n",
    "data.tail()"
   ]
  },
  {
   "cell_type": "code",
   "execution_count": 12,
   "metadata": {},
   "outputs": [],
   "source": [
    "# Uncomment the line below to extract the dataframe to a csv file in case you dont want to redo the steps above\n",
    "# data.to_csv(\"Envdata/GPSPresTemp_dataset.csv\",index=False)"
   ]
  },
  {
   "cell_type": "markdown",
   "metadata": {},
   "source": [
    "## 2. It uses the muon files to extract a second dataframe with two columns"
   ]
  },
  {
   "cell_type": "code",
   "execution_count": 13,
   "metadata": {},
   "outputs": [],
   "source": [
    "def datafiletodataframe(datafile):\n",
    "    names2read=[\"unixtime\",\"eventnum\",\"finetime\",\"tof1\",\"tof2\",\"plane_num\",\"crap1\",\"crap2\"]+[str(i) for i in range(130)]\n",
    "    columns=[\"unixtime\",\"eventnum\",\"finetime\",\"tof1\",\"tof2\",\"plane_num\"]\n",
    "    dataframe= pd.read_csv(datafile, delim_whitespace=True, header = None, names=names2read, engine='python')\n",
    "    dataframe=dataframe[columns]\n",
    "    dataframe=dataframe.loc[dataframe[\"plane_num\"]==32]\n",
    "    dataframe_freq=pd.DataFrame(dataframe[\"unixtime\"].value_counts(sort=False))\n",
    "    dataframe_freq = dataframe_freq.sort_index()\n",
    "    dataframe_freq = dataframe_freq.reset_index()\n",
    "    dataframe_freq.columns = ['unixtime', 'frequency']\n",
    "    \n",
    "    return dataframe_freq"
   ]
  },
  {
   "cell_type": "code",
   "execution_count": 25,
   "metadata": {},
   "outputs": [
    {
     "name": "stdout",
     "output_type": "stream",
     "text": [
      "0\n",
      "100\n"
     ]
    }
   ],
   "source": [
    "#Uncomment the following line in case you want to remove the file before recreating it from scratch\n",
    "#os.remove(\"muondetpersec_test.csv\")\n",
    "\n",
    "with open(\"muondetpersec_test.csv\",\"a\") as fout: #opens the file to append (\"a\") things to it\n",
    "    df_header=pd.DataFrame(columns=['unixtime', 'frequency']) # empty dataframe with just a header to put to fout\n",
    "    df_header.to_csv(fout,index=False) #write the empty dataframe to fout. It only adds the header values\n",
    "    \n",
    "    # a for loop to go through all the muon detector file in order to extract the muon rates (\"fequency\") per sec\n",
    "    # Each frequency value is paired with the corresponding unix timestamp\n",
    "    \n",
    "    numoffiles=200 #the total number of files with the same first part (here: EGO-central-building-zen00-20200214-) you are going to use\n",
    "    \n",
    "    # In case the Datafiles you use have names that change (other than the numbers) then you should execute in a segmented\n",
    "    # manner or change the code to take this into account\n",
    "    \n",
    "    for i in range(numoffiles):\n",
    "        if i%100==0: print(i) # print the num file in order to see that the extraction progresses\n",
    "        datafile=\"/Users/theoavg/Desktop/VirgoO3_Analysis/marteau_data_files/DetDatFiles/EGO-central-building-zen00-20200214-\"+str(i)+\".dat\"\n",
    "        df_out=datafiletodataframe(datafile)\n",
    "        df_out.to_csv(fout,header=False,index=False)\n",
    "        #df_final=df_final.append(df_out,ignore_index=True)"
   ]
  },
  {
   "cell_type": "code",
   "execution_count": 20,
   "metadata": {},
   "outputs": [
    {
     "data": {
      "text/plain": [
       "(596, 2)"
      ]
     },
     "execution_count": 20,
     "metadata": {},
     "output_type": "execute_result"
    }
   ],
   "source": [
    "df_out.shape"
   ]
  },
  {
   "cell_type": "code",
   "execution_count": 21,
   "metadata": {},
   "outputs": [
    {
     "name": "stderr",
     "output_type": "stream",
     "text": [
      "/Users/theoavg/anaconda3/lib/python3.7/site-packages/IPython/core/interactiveshell.py:3057: DtypeWarning: Columns (0,1) have mixed types. Specify dtype option on import or set low_memory=False.\n",
      "  interactivity=interactivity, compiler=compiler, result=result)\n"
     ]
    }
   ],
   "source": [
    "marteau_filepath=\"muondetpersec.csv\"\n",
    "marteau_df=pd.read_csv(marteau_filepath)"
   ]
  },
  {
   "cell_type": "code",
   "execution_count": null,
   "metadata": {},
   "outputs": [],
   "source": [
    "marteau_df.head()"
   ]
  },
  {
   "cell_type": "code",
   "execution_count": null,
   "metadata": {},
   "outputs": [],
   "source": []
  }
 ],
 "metadata": {
  "kernelspec": {
   "display_name": "Python 3",
   "language": "python",
   "name": "python3"
  },
  "language_info": {
   "codemirror_mode": {
    "name": "ipython",
    "version": 3
   },
   "file_extension": ".py",
   "mimetype": "text/x-python",
   "name": "python",
   "nbconvert_exporter": "python",
   "pygments_lexer": "ipython3",
   "version": "3.7.3"
  }
 },
 "nbformat": 4,
 "nbformat_minor": 2
}
